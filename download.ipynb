{
 "cells": [
  {
   "cell_type": "markdown",
   "metadata": {},
   "source": [
    "This file should only be used to contain the code used to download data by using the selenium \n",
    "\n",
    "and\n",
    "\n",
    "Upload data to minio"
   ]
  },
  {
   "cell_type": "code",
   "execution_count": 3,
   "metadata": {},
   "outputs": [
    {
     "name": "stdout",
     "output_type": "stream",
     "text": [
      "Collecting boto3\n",
      "  Downloading boto3-1.34.71-py3-none-any.whl (139 kB)\n",
      "                                              0.0/139.3 kB ? eta -:--:--\n",
      "     -----------------                       61.4/139.3 kB 1.1 MB/s eta 0:00:01\n",
      "     -------------------------------------- 139.3/139.3 kB 1.7 MB/s eta 0:00:00\n",
      "Collecting botocore<1.35.0,>=1.34.71 (from boto3)\n",
      "  Downloading botocore-1.34.71-py3-none-any.whl (12.0 MB)\n",
      "                                              0.0/12.0 MB ? eta -:--:--\n",
      "                                              0.2/12.0 MB 4.6 MB/s eta 0:00:03\n",
      "     -                                        0.5/12.0 MB 5.2 MB/s eta 0:00:03\n",
      "     --                                       0.7/12.0 MB 5.6 MB/s eta 0:00:03\n",
      "     --                                       0.8/12.0 MB 4.8 MB/s eta 0:00:03\n",
      "     -----                                    1.6/12.0 MB 7.2 MB/s eta 0:00:02\n",
      "     -----                                    1.6/12.0 MB 5.7 MB/s eta 0:00:02\n",
      "     ------                                   2.1/12.0 MB 6.6 MB/s eta 0:00:02\n",
      "     -------                                  2.4/12.0 MB 6.6 MB/s eta 0:00:02\n",
      "     -------                                  2.4/12.0 MB 6.6 MB/s eta 0:00:02\n",
      "     --------                                 2.6/12.0 MB 5.7 MB/s eta 0:00:02\n",
      "     ---------                                2.9/12.0 MB 5.8 MB/s eta 0:00:02\n",
      "     ----------                               3.1/12.0 MB 5.6 MB/s eta 0:00:02\n",
      "     ----------                               3.3/12.0 MB 5.3 MB/s eta 0:00:02\n",
      "     -----------                              3.4/12.0 MB 5.1 MB/s eta 0:00:02\n",
      "     -----------                              3.5/12.0 MB 4.9 MB/s eta 0:00:02\n",
      "     -----------                              3.5/12.0 MB 4.7 MB/s eta 0:00:02\n",
      "     ------------                             3.6/12.0 MB 4.5 MB/s eta 0:00:02\n",
      "     ------------                             3.7/12.0 MB 4.4 MB/s eta 0:00:02\n",
      "     ------------                             3.7/12.0 MB 4.2 MB/s eta 0:00:02\n",
      "     ------------                             3.8/12.0 MB 4.1 MB/s eta 0:00:03\n",
      "     ------------                             3.9/12.0 MB 3.9 MB/s eta 0:00:03\n",
      "     -------------                            3.9/12.0 MB 3.8 MB/s eta 0:00:03\n",
      "     -------------                            4.0/12.0 MB 3.7 MB/s eta 0:00:03\n",
      "     -------------                            4.1/12.0 MB 3.6 MB/s eta 0:00:03\n",
      "     -------------                            4.1/12.0 MB 3.5 MB/s eta 0:00:03\n",
      "     -------------                            4.2/12.0 MB 3.4 MB/s eta 0:00:03\n",
      "     --------------                           4.3/12.0 MB 3.4 MB/s eta 0:00:03\n",
      "     --------------                           4.3/12.0 MB 3.3 MB/s eta 0:00:03\n",
      "     --------------                           4.4/12.0 MB 3.3 MB/s eta 0:00:03\n",
      "     --------------                           4.5/12.0 MB 3.2 MB/s eta 0:00:03\n",
      "     ---------------                          4.5/12.0 MB 3.1 MB/s eta 0:00:03\n",
      "     ---------------                          4.6/12.0 MB 3.1 MB/s eta 0:00:03\n",
      "     ---------------                          4.7/12.0 MB 3.1 MB/s eta 0:00:03\n",
      "     ---------------                          4.8/12.0 MB 3.0 MB/s eta 0:00:03\n",
      "     ----------------                         4.9/12.0 MB 3.0 MB/s eta 0:00:03\n",
      "     ----------------                         5.0/12.0 MB 2.9 MB/s eta 0:00:03\n",
      "     ----------------                         5.0/12.0 MB 2.9 MB/s eta 0:00:03\n",
      "     -----------------                        5.1/12.0 MB 2.9 MB/s eta 0:00:03\n",
      "     -----------------                        5.2/12.0 MB 2.8 MB/s eta 0:00:03\n",
      "     -----------------                        5.3/12.0 MB 2.8 MB/s eta 0:00:03\n",
      "     -----------------                        5.4/12.0 MB 2.8 MB/s eta 0:00:03\n",
      "     ------------------                       5.4/12.0 MB 2.8 MB/s eta 0:00:03\n",
      "     ------------------                       5.6/12.0 MB 2.8 MB/s eta 0:00:03\n",
      "     ------------------                       5.6/12.0 MB 2.8 MB/s eta 0:00:03\n",
      "     -------------------                      5.7/12.0 MB 2.7 MB/s eta 0:00:03\n",
      "     -------------------                      5.8/12.0 MB 2.7 MB/s eta 0:00:03\n",
      "     -------------------                      5.9/12.0 MB 2.7 MB/s eta 0:00:03\n",
      "     --------------------                     6.1/12.0 MB 2.7 MB/s eta 0:00:03\n",
      "     --------------------                     6.1/12.0 MB 2.7 MB/s eta 0:00:03\n",
      "     --------------------                     6.3/12.0 MB 2.7 MB/s eta 0:00:03\n",
      "     ---------------------                    6.4/12.0 MB 2.7 MB/s eta 0:00:03\n",
      "     ---------------------                    6.5/12.0 MB 2.7 MB/s eta 0:00:03\n",
      "     ---------------------                    6.6/12.0 MB 2.6 MB/s eta 0:00:03\n",
      "     ----------------------                   6.7/12.0 MB 2.6 MB/s eta 0:00:03\n",
      "     ----------------------                   6.8/12.0 MB 2.6 MB/s eta 0:00:02\n",
      "     ----------------------                   6.9/12.0 MB 2.6 MB/s eta 0:00:02\n",
      "     -----------------------                  7.0/12.0 MB 2.6 MB/s eta 0:00:02\n",
      "     -----------------------                  7.1/12.0 MB 2.6 MB/s eta 0:00:02\n",
      "     ------------------------                 7.2/12.0 MB 2.6 MB/s eta 0:00:02\n",
      "     ------------------------                 7.3/12.0 MB 2.6 MB/s eta 0:00:02\n",
      "     ------------------------                 7.4/12.0 MB 2.6 MB/s eta 0:00:02\n",
      "     -------------------------                7.5/12.0 MB 2.6 MB/s eta 0:00:02\n",
      "     -------------------------                7.6/12.0 MB 2.6 MB/s eta 0:00:02\n",
      "     -------------------------                7.8/12.0 MB 2.6 MB/s eta 0:00:02\n",
      "     --------------------------               7.9/12.0 MB 2.6 MB/s eta 0:00:02\n",
      "     --------------------------               8.0/12.0 MB 2.6 MB/s eta 0:00:02\n",
      "     --------------------------               8.1/12.0 MB 2.6 MB/s eta 0:00:02\n",
      "     ---------------------------              8.2/12.0 MB 2.6 MB/s eta 0:00:02\n",
      "     ---------------------------              8.3/12.0 MB 2.6 MB/s eta 0:00:02\n",
      "     ---------------------------              8.4/12.0 MB 2.5 MB/s eta 0:00:02\n",
      "     ----------------------------             8.5/12.0 MB 2.6 MB/s eta 0:00:02\n",
      "     ----------------------------             8.6/12.0 MB 2.6 MB/s eta 0:00:02\n",
      "     ----------------------------             8.7/12.0 MB 2.5 MB/s eta 0:00:02\n",
      "     -----------------------------            8.8/12.0 MB 2.5 MB/s eta 0:00:02\n",
      "     -----------------------------            8.9/12.0 MB 2.5 MB/s eta 0:00:02\n",
      "     ------------------------------           9.0/12.0 MB 2.5 MB/s eta 0:00:02\n",
      "     ------------------------------           9.2/12.0 MB 2.5 MB/s eta 0:00:02\n",
      "     ------------------------------           9.3/12.0 MB 2.5 MB/s eta 0:00:02\n",
      "     -------------------------------          9.4/12.0 MB 2.5 MB/s eta 0:00:02\n",
      "     -------------------------------          9.5/12.0 MB 2.5 MB/s eta 0:00:02\n",
      "     -------------------------------          9.6/12.0 MB 2.5 MB/s eta 0:00:01\n",
      "     --------------------------------         9.7/12.0 MB 2.5 MB/s eta 0:00:01\n",
      "     --------------------------------         9.9/12.0 MB 2.5 MB/s eta 0:00:01\n",
      "     ---------------------------------        10.1/12.0 MB 2.5 MB/s eta 0:00:01\n",
      "     ---------------------------------        10.2/12.0 MB 2.5 MB/s eta 0:00:01\n",
      "     ----------------------------------       10.4/12.0 MB 2.5 MB/s eta 0:00:01\n",
      "     -----------------------------------      10.5/12.0 MB 2.5 MB/s eta 0:00:01\n",
      "     -----------------------------------      10.7/12.0 MB 2.5 MB/s eta 0:00:01\n",
      "     ------------------------------------     10.8/12.0 MB 2.5 MB/s eta 0:00:01\n",
      "     ------------------------------------     11.0/12.0 MB 2.5 MB/s eta 0:00:01\n",
      "     -------------------------------------    11.1/12.0 MB 2.5 MB/s eta 0:00:01\n",
      "     -------------------------------------    11.3/12.0 MB 2.4 MB/s eta 0:00:01\n",
      "     -------------------------------------    11.4/12.0 MB 2.4 MB/s eta 0:00:01\n",
      "     --------------------------------------   11.5/12.0 MB 2.4 MB/s eta 0:00:01\n",
      "     --------------------------------------   11.6/12.0 MB 2.3 MB/s eta 0:00:01\n",
      "     ---------------------------------------  11.8/12.0 MB 2.3 MB/s eta 0:00:01\n",
      "     ---------------------------------------  11.9/12.0 MB 2.3 MB/s eta 0:00:01\n",
      "     ---------------------------------------  12.0/12.0 MB 2.3 MB/s eta 0:00:01\n",
      "     ---------------------------------------- 12.0/12.0 MB 2.3 MB/s eta 0:00:00\n",
      "Requirement already satisfied: jmespath<2.0.0,>=0.7.1 in c:\\users\\trung\\appdata\\local\\programs\\python\\python39\\lib\\site-packages (from boto3) (1.0.1)\n",
      "Collecting s3transfer<0.11.0,>=0.10.0 (from boto3)\n",
      "  Downloading s3transfer-0.10.1-py3-none-any.whl (82 kB)\n",
      "                                              0.0/82.2 kB ? eta -:--:--\n",
      "     ---------------------------------------- 82.2/82.2 kB 2.2 MB/s eta 0:00:00\n",
      "Requirement already satisfied: python-dateutil<3.0.0,>=2.1 in c:\\users\\trung\\appdata\\local\\programs\\python\\python39\\lib\\site-packages (from botocore<1.35.0,>=1.34.71->boto3) (2.8.2)\n",
      "Requirement already satisfied: urllib3<1.27,>=1.25.4 in c:\\users\\trung\\appdata\\local\\programs\\python\\python39\\lib\\site-packages (from botocore<1.35.0,>=1.34.71->boto3) (1.26.12)\n",
      "Requirement already satisfied: six>=1.5 in c:\\users\\trung\\appdata\\local\\programs\\python\\python39\\lib\\site-packages (from python-dateutil<3.0.0,>=2.1->botocore<1.35.0,>=1.34.71->boto3) (1.16.0)\n",
      "Installing collected packages: botocore, s3transfer, boto3\n",
      "Successfully installed boto3-1.34.71 botocore-1.34.71 s3transfer-0.10.1\n",
      "Note: you may need to restart the kernel to use updated packages.\n"
     ]
    },
    {
     "name": "stderr",
     "output_type": "stream",
     "text": [
      "\n",
      "[notice] A new release of pip is available: 23.1.2 -> 24.0\n",
      "[notice] To update, run: python.exe -m pip install --upgrade pip\n"
     ]
    }
   ],
   "source": [
    "%pip install boto3\n",
    "# Libraries maybe you need to install in your environment to use selenium and chromedriver below\n",
    "# %pip install selenium chromedriver-binary"
   ]
  },
  {
   "cell_type": "code",
   "execution_count": 1,
   "metadata": {},
   "outputs": [],
   "source": [
    "import os\n",
    "import boto3"
   ]
  },
  {
   "cell_type": "code",
   "execution_count": 2,
   "metadata": {},
   "outputs": [
    {
     "name": "stdout",
     "output_type": "stream",
     "text": [
      "Requirement already satisfied: selenium==4.7.2 in c:\\users\\trung\\appdata\\local\\programs\\python\\python39\\lib\\site-packages (4.7.2)\n",
      "Requirement already satisfied: urllib3~=1.26 in c:\\users\\trung\\appdata\\local\\programs\\python\\python39\\lib\\site-packages (from urllib3[socks]~=1.26->selenium==4.7.2) (1.26.12)\n",
      "Requirement already satisfied: trio~=0.17 in c:\\users\\trung\\appdata\\local\\programs\\python\\python39\\lib\\site-packages (from selenium==4.7.2) (0.21.0)\n",
      "Requirement already satisfied: trio-websocket~=0.9 in c:\\users\\trung\\appdata\\local\\programs\\python\\python39\\lib\\site-packages (from selenium==4.7.2) (0.9.2)\n",
      "Requirement already satisfied: certifi>=2021.10.8 in c:\\users\\trung\\appdata\\local\\programs\\python\\python39\\lib\\site-packages (from selenium==4.7.2) (2022.9.14)\n",
      "Requirement already satisfied: attrs>=19.2.0 in c:\\users\\trung\\appdata\\local\\programs\\python\\python39\\lib\\site-packages (from trio~=0.17->selenium==4.7.2) (22.1.0)\n",
      "Requirement already satisfied: sortedcontainers in c:\\users\\trung\\appdata\\local\\programs\\python\\python39\\lib\\site-packages (from trio~=0.17->selenium==4.7.2) (2.4.0)\n",
      "Requirement already satisfied: async-generator>=1.9 in c:\\users\\trung\\appdata\\local\\programs\\python\\python39\\lib\\site-packages (from trio~=0.17->selenium==4.7.2) (1.10)\n",
      "Requirement already satisfied: idna in c:\\users\\trung\\appdata\\local\\programs\\python\\python39\\lib\\site-packages (from trio~=0.17->selenium==4.7.2) (3.4)\n",
      "Requirement already satisfied: outcome in c:\\users\\trung\\appdata\\local\\programs\\python\\python39\\lib\\site-packages (from trio~=0.17->selenium==4.7.2) (1.2.0)\n",
      "Requirement already satisfied: sniffio in c:\\users\\trung\\appdata\\local\\programs\\python\\python39\\lib\\site-packages (from trio~=0.17->selenium==4.7.2) (1.3.0)\n",
      "Requirement already satisfied: cffi>=1.14 in c:\\users\\trung\\appdata\\local\\programs\\python\\python39\\lib\\site-packages (from trio~=0.17->selenium==4.7.2) (1.15.1)\n",
      "Requirement already satisfied: wsproto>=0.14 in c:\\users\\trung\\appdata\\local\\programs\\python\\python39\\lib\\site-packages (from trio-websocket~=0.9->selenium==4.7.2) (1.2.0)\n",
      "Requirement already satisfied: PySocks!=1.5.7,<2.0,>=1.5.6 in c:\\users\\trung\\appdata\\local\\programs\\python\\python39\\lib\\site-packages (from urllib3[socks]~=1.26->selenium==4.7.2) (1.7.1)\n",
      "Requirement already satisfied: pycparser in c:\\users\\trung\\appdata\\local\\programs\\python\\python39\\lib\\site-packages (from cffi>=1.14->trio~=0.17->selenium==4.7.2) (2.21)\n",
      "Requirement already satisfied: h11<1,>=0.9.0 in c:\\users\\trung\\appdata\\local\\programs\\python\\python39\\lib\\site-packages (from wsproto>=0.14->trio-websocket~=0.9->selenium==4.7.2) (0.13.0)\n",
      "Note: you may need to restart the kernel to use updated packages.\n",
      "Requirement already satisfied: chromedriver-autoinstaller==0.6.4 in c:\\users\\trung\\appdata\\local\\programs\\python\\python39\\lib\\site-packages (0.6.4)\n",
      "Requirement already satisfied: packaging>=23.1 in c:\\users\\trung\\appdata\\local\\programs\\python\\python39\\lib\\site-packages (from chromedriver-autoinstaller==0.6.4) (23.2)\n",
      "Note: you may need to restart the kernel to use updated packages.\n"
     ]
    }
   ],
   "source": [
    "%pip install selenium==4.7.2\n",
    "%pip install chromedriver-autoinstaller==0.6.4"
   ]
  },
  {
   "cell_type": "code",
   "execution_count": 3,
   "metadata": {},
   "outputs": [
    {
     "name": "stdout",
     "output_type": "stream",
     "text": [
      "Download successfully\n"
     ]
    }
   ],
   "source": [
    "# The file download processing section should be placed here\n",
    "\n",
    "from selenium import webdriver\n",
    "from selenium.webdriver.common.action_chains import ActionChains\n",
    "from selenium.webdriver.common.by import By\n",
    "from selenium.webdriver.support.ui import WebDriverWait\n",
    "from selenium.webdriver.support import expected_conditions as EC\n",
    "from selenium.common.exceptions import TimeoutException\n",
    "import chromedriver_autoinstaller\n",
    "\n",
    "chromedriver_autoinstaller.install()\n",
    "\n",
    "options = webdriver.ChromeOptions()\n",
    "options.add_argument(\"--lang=vi\")\n",
    "current_directory = os.getcwd()\n",
    "options.add_experimental_option(\"prefs\", {\n",
    "  \"download.default_directory\": current_directory,\n",
    "  \"download.prompt_for_download\": False,\n",
    "  \"download.directory_upgrade\": True,\n",
    "  \"safebrowsing.enabled\": True\n",
    "})\n",
    "driver = webdriver.Chrome(options=options)\n",
    "\n",
    "try:\n",
    "    driver.get(\"https://drive.google.com/drive/folders/1EImvKyUQ_iJCfd2h-Dxjn_sqPyDV5tFC?usp=sharing\")\n",
    "    element = WebDriverWait(driver, 10).until(\n",
    "        EC.visibility_of_element_located((By.CLASS_NAME, \"KL4NAf\"))\n",
    "    )\n",
    "    actions = ActionChains(driver)\n",
    "    actions.move_to_element(element).perform()\n",
    "\n",
    "    element = WebDriverWait(driver, 10).until(\n",
    "        EC.visibility_of_element_located((By.CSS_SELECTOR, 'div[aria-label=\"Tải xuống\"]'))\n",
    "    )\n",
    "    element.click()\n",
    "    print(\"Download successfully\")\n",
    "except Exception as err:\n",
    "    print(f\"Error: {err}\")\n"
   ]
  },
  {
   "cell_type": "code",
   "execution_count": 4,
   "metadata": {},
   "outputs": [],
   "source": [
    "import zipfile, os\n",
    "\n",
    "def unzip_file(zip_file_path, extract_to):\n",
    "    with zipfile.ZipFile(zip_file_path, 'r') as zip_ref:\n",
    "        zip_ref.extractall(extract_to)\n",
    "\n",
    "zip_file_path = 'data.zip' \n",
    "extracted_folder = 'data-raw' \n",
    "unzip_file(zip_file_path, extracted_folder)"
   ]
  },
  {
   "cell_type": "code",
   "execution_count": 5,
   "metadata": {},
   "outputs": [],
   "source": [
    "# Define S3 storage\n",
    "obj_storage_access_key = os.getenv('OBJ_STORAGE_ACCESS_KEY', 'ViObtRdRJI9cs52kg2GK')\n",
    "obj_storage_secret_key = os.getenv('OBJ_STORAGE_SECRET_KEY', 'IrAUC7JpogDEMdvnE98BOjqng9LYCPU9cG2mLNU1')\n",
    "obj_storage_endpoint = os.getenv('OBJ_STORAGE_ENDPOINT', 'http://localhost:9000')\n"
   ]
  },
  {
   "cell_type": "code",
   "execution_count": 6,
   "metadata": {},
   "outputs": [],
   "source": [
    "# Function to upload file to minio\n",
    "def upload_file_to_minio(file_path, minio_bucket, minio_object_name):\n",
    "    s3c = boto3.resource('s3',\n",
    "                        endpoint_url=obj_storage_endpoint,\n",
    "                        aws_access_key_id=obj_storage_access_key,\n",
    "                        aws_secret_access_key=obj_storage_secret_key,\n",
    "                        config=boto3.session.Config(signature_version='s3v4'),\n",
    "                        verify=False\n",
    "                        )\n",
    "    s3c.Bucket(minio_bucket).upload_file(file_path, minio_object_name)\n"
   ]
  },
  {
   "cell_type": "code",
   "execution_count": 17,
   "metadata": {},
   "outputs": [
    {
     "name": "stdout",
     "output_type": "stream",
     "text": [
      "data-raw\n",
      "data-raw\\__MACOSX\n"
     ]
    }
   ],
   "source": []
  },
  {
   "cell_type": "code",
   "execution_count": 19,
   "metadata": {},
   "outputs": [
    {
     "name": "stdout",
     "output_type": "stream",
     "text": [
      "['data.json', 'data2.json', 'data3.json']\n",
      "file_path:  data-raw\\data.json\n",
      "minio_object_name:  data-raw/data.json\n",
      "Uploaded data-raw\\data.json to Minio\n",
      "file_path:  data-raw\\data2.json\n",
      "minio_object_name:  data-raw/data2.json\n",
      "Uploaded data-raw\\data2.json to Minio\n",
      "file_path:  data-raw\\data3.json\n",
      "minio_object_name:  data-raw/data3.json\n",
      "Uploaded data-raw\\data3.json to Minio\n"
     ]
    }
   ],
   "source": [
    "minio_bucket = 'data'\n",
    "files = [pos_json for pos_json in os.listdir(extracted_folder) if pos_json.endswith('.json')]\n",
    "print(files)\n",
    "for file in files:\n",
    "    file_path = os.path.join(extracted_folder, file)\n",
    "    minio_object_name = f\"{extracted_folder}/{file}\"\n",
    "    try:\n",
    "        upload_file_to_minio(file_path, minio_bucket, minio_object_name)\n",
    "        print(f\"Uploaded {file_path} to Minio\")\n",
    "    except Exception as err:\n",
    "        print(err)"
   ]
  },
  {
   "cell_type": "code",
   "execution_count": 8,
   "metadata": {},
   "outputs": [],
   "source": [
    "# Upload file to minio\n",
    "# upload_file_to_minio('data-raw/data.json', 'data', 'data-raw/data.json')\n",
    "# upload_file_to_minio('data-raw/data2.json', 'data', 'data-raw/data2.json')\n",
    "# upload_file_to_minio('data-raw/data3.json', 'data', 'data-raw/data3.json')"
   ]
  }
 ],
 "metadata": {
  "kernelspec": {
   "display_name": ".venv",
   "language": "python",
   "name": "python3"
  },
  "language_info": {
   "codemirror_mode": {
    "name": "ipython",
    "version": 3
   },
   "file_extension": ".py",
   "mimetype": "text/x-python",
   "name": "python",
   "nbconvert_exporter": "python",
   "pygments_lexer": "ipython3",
   "version": "3.9.4"
  }
 },
 "nbformat": 4,
 "nbformat_minor": 2
}
