{
 "cells": [
  {
   "cell_type": "markdown",
   "metadata": {},
   "source": [
    "This file will be used to contain data processing components"
   ]
  },
  {
   "cell_type": "code",
   "execution_count": 45,
   "metadata": {},
   "outputs": [
    {
     "name": "stdout",
     "output_type": "stream",
     "text": [
      "Requirement already satisfied: boto3 in c:\\users\\trung\\appdata\\local\\programs\\python\\python39\\lib\\site-packages (1.34.71)\n",
      "Requirement already satisfied: pyspark in c:\\users\\trung\\appdata\\local\\programs\\python\\python39\\lib\\site-packages (3.5.1)\n",
      "Requirement already satisfied: delta-spark in c:\\users\\trung\\appdata\\local\\programs\\python\\python39\\lib\\site-packages (3.1.0)\n",
      "Requirement already satisfied: python-dotenv in c:\\users\\trung\\appdata\\local\\programs\\python\\python39\\lib\\site-packages (0.21.0)\n",
      "Requirement already satisfied: botocore<1.35.0,>=1.34.71 in c:\\users\\trung\\appdata\\local\\programs\\python\\python39\\lib\\site-packages (from boto3) (1.34.74)\n",
      "Requirement already satisfied: jmespath<2.0.0,>=0.7.1 in c:\\users\\trung\\appdata\\local\\programs\\python\\python39\\lib\\site-packages (from boto3) (1.0.1)\n",
      "Requirement already satisfied: s3transfer<0.11.0,>=0.10.0 in c:\\users\\trung\\appdata\\local\\programs\\python\\python39\\lib\\site-packages (from boto3) (0.10.1)\n",
      "Requirement already satisfied: py4j==0.10.9.7 in c:\\users\\trung\\appdata\\local\\programs\\python\\python39\\lib\\site-packages (from pyspark) (0.10.9.7)\n",
      "Requirement already satisfied: importlib-metadata>=1.0.0 in c:\\users\\trung\\appdata\\local\\programs\\python\\python39\\lib\\site-packages (from delta-spark) (5.2.0)\n",
      "Requirement already satisfied: python-dateutil<3.0.0,>=2.1 in c:\\users\\trung\\appdata\\local\\programs\\python\\python39\\lib\\site-packages (from botocore<1.35.0,>=1.34.71->boto3) (2.8.2)\n",
      "Requirement already satisfied: urllib3<1.27,>=1.25.4 in c:\\users\\trung\\appdata\\local\\programs\\python\\python39\\lib\\site-packages (from botocore<1.35.0,>=1.34.71->boto3) (1.26.12)\n",
      "Requirement already satisfied: zipp>=0.5 in c:\\users\\trung\\appdata\\local\\programs\\python\\python39\\lib\\site-packages (from importlib-metadata>=1.0.0->delta-spark) (3.11.0)\n",
      "Requirement already satisfied: six>=1.5 in c:\\users\\trung\\appdata\\local\\programs\\python\\python39\\lib\\site-packages (from python-dateutil<3.0.0,>=2.1->botocore<1.35.0,>=1.34.71->boto3) (1.16.0)\n",
      "Note: you may need to restart the kernel to use updated packages.\n"
     ]
    }
   ],
   "source": [
    "%pip install boto3 pyspark delta-spark python-dotenv"
   ]
  },
  {
   "cell_type": "code",
   "execution_count": 46,
   "metadata": {},
   "outputs": [],
   "source": [
    "import os, boto3\n",
    "from pyspark.sql import SparkSession"
   ]
  },
  {
   "cell_type": "code",
   "execution_count": 47,
   "metadata": {},
   "outputs": [],
   "source": [
    "# You can use the following to set the environment variables in the notebook if you don't set manually access key, secret key and endpoint in minio\n",
    "os.environ['OBJ_STORAGE_ACCESS_KEY'] = 'tMveEaHOQDdrH8Vt8GgJ'\n",
    "os.environ['OBJ_STORAGE_SECRET_KEY'] = 'CY2Ze1R9HMoC0igRj8bOTL9qVk9OcMt6Z6jZ3yZy'\n",
    "os.environ['OBJ_STORAGE_ENDPOINT'] = 'http://localhost:9000'"
   ]
  },
  {
   "cell_type": "code",
   "execution_count": 48,
   "metadata": {},
   "outputs": [],
   "source": [
    "# Define S3 storage\n",
    "obj_storage_access_key = os.getenv('OBJ_STORAGE_ACCESS_KEY')\n",
    "obj_storage_secret_key = os.getenv('OBJ_STORAGE_SECRET_KEY')\n",
    "obj_storage_endpoint = os.getenv('OBJ_STORAGE_ENDPOINT', 'http://localhost:9000')"
   ]
  },
  {
   "cell_type": "code",
   "execution_count": 49,
   "metadata": {},
   "outputs": [],
   "source": [
    "path_1 = \"s3a://data/data-raw/data.json\"\n",
    "path_2 = \"s3a://data/data-raw/data2.json\"\n",
    "path_3 = \"s3a://data/data-raw/data3.json\""
   ]
  },
  {
   "cell_type": "code",
   "execution_count": 50,
   "metadata": {},
   "outputs": [
    {
     "name": "stdout",
     "output_type": "stream",
     "text": [
      "root\n",
      " |-- batters: struct (nullable = true)\n",
      " |    |-- batter: array (nullable = true)\n",
      " |    |    |-- element: struct (containsNull = true)\n",
      " |    |    |    |-- id: string (nullable = true)\n",
      " |    |    |    |-- type: string (nullable = true)\n",
      " |-- filling: array (nullable = true)\n",
      " |    |-- element: struct (containsNull = true)\n",
      " |    |    |-- id: string (nullable = true)\n",
      " |    |    |-- name: string (nullable = true)\n",
      " |-- id: string (nullable = true)\n",
      " |-- name: string (nullable = true)\n",
      " |-- ppu: double (nullable = true)\n",
      " |-- topping: array (nullable = true)\n",
      " |    |-- element: struct (containsNull = true)\n",
      " |    |    |-- id: string (nullable = true)\n",
      " |    |    |-- type: string (nullable = true)\n",
      " |-- type: string (nullable = true)\n",
      "\n",
      "+--------------------+--------------------+----+-------------------+----+--------------------+-----+\n",
      "|             batters|             filling|  id|               name| ppu|             topping| type|\n",
      "+--------------------+--------------------+----+-------------------+----+--------------------+-----+\n",
      "|{[{1001, Regular}...|                NULL|0004|              Jelly|0.65|[{5001, None}, {5...|donut|\n",
      "|{[{1001, Regular}...|                NULL|0005|     Custard-Filled|0.75|[{5001, None}, {5...|donut|\n",
      "|{[{1001, Regular}...|[{6001, None}, {6...|0006|     Cinnamon Twist|0.85|[{5001, None}, {5...|donut|\n",
      "|{[{1001, Regular}...|                NULL|0007|    Vanilla Frosted|0.75|[{5001, None}, {5...|donut|\n",
      "|{[{1001, Regular}...|                NULL|0008| Strawberry Frosted|0.85|[{5001, None}, {5...|donut|\n",
      "|{[{1001, Regular}...|                NULL|0009|     Chocolate Cake|0.75|[{5001, None}, {5...|donut|\n",
      "|{[{1001, Regular}...|                NULL|0010|     Blueberry Cake|0.55|[{5001, None}, {5...|donut|\n",
      "|{[{1001, Regular}...|                NULL|0011|  Devil's Food Cake|0.75|[{5001, None}, {5...|donut|\n",
      "|{[{1001, Regular}...|                NULL|0017|      Old Fashioned|0.65|[{5001, None}, {5...|donut|\n",
      "| {[{1001, Regular}]}|                NULL|0018|            Regular|0.55|[{5001, None}, {5...|donut|\n",
      "| {[{1001, Regular}]}|[{6001, None}, {6...|0019|          Blueberry|0.75|[{5002, Glazed}, ...|donut|\n",
      "|{[{1001, Regular}...|                NULL|0004|              Jelly|0.65|[{5001, None}, {5...|donut|\n",
      "| {[{1001, Regular}]}|                NULL|0020|       Devil's Food|0.75|[{5002, Glazed}, ...|donut|\n",
      "|{[{1001, Regular}...|                NULL|0021|      Vanilla Cream|0.75|[{5002, Glazed}, ...|donut|\n",
      "|{[{1001, Regular}...|                NULL|0012|        Jelly Donut|0.65|[{5001, None}, {5...|donut|\n",
      "| {[{1001, Regular}]}|                NULL|0013|       Raised Donut|0.55|[{5001, None}, {5...|donut|\n",
      "|{[{1001, Regular}...|                NULL|0014|Old Fashioned Donut|0.75|[{5001, None}, {5...|donut|\n",
      "| {[{1001, Regular}]}|                NULL|0015|            Cruller|0.85|[{5001, None}, {5...|donut|\n",
      "|{[{1001, Regular}...|[{6001, None}, {6...|0016|       Filled Donut|0.95|[{5001, None}, {5...|donut|\n",
      "+--------------------+--------------------+----+-------------------+----+--------------------+-----+\n",
      "\n"
     ]
    }
   ],
   "source": [
    "# 6/ Write code: Use Spark to connect to Minio to read the data.\n",
    "# You need to more configuration if you want to use minio as object storage \n",
    "# (hint: maybe you can using .config() method to set the configuration if you want using spark to read/write data from/to minio)\n",
    "spark = SparkSession \\\n",
    "    .builder \\\n",
    "    .appName(\"Python Spark SQL basic example\") \\\n",
    "    .config('spark.hadoop.fs.s3a.impl', \"org.apache.hadoop.fs.s3a.S3AFileSystem\") \\\n",
    "    .config('spark.hadoop.fs.s3a.path.style.access', \"true\") \\\n",
    "    .config(\"spark.hadoop.fs.impl.disable.cache.prefetching\", \"true\") \\\n",
    "    .config(\"spark.hadoop.fs.s3a.access.key\", obj_storage_access_key) \\\n",
    "    .config(\"spark.hadoop.fs.s3a.secret.key\", obj_storage_secret_key) \\\n",
    "    .config(\"spark.hadoop.fs.s3a.endpoint\", obj_storage_endpoint) \\\n",
    "    .getOrCreate()\n",
    "\n",
    "data = spark.read.format(\"json\").load([path_1,path_2,path_3], multiLine=True)\n",
    "data.printSchema()\n",
    "data.show()"
   ]
  },
  {
   "cell_type": "code",
   "execution_count": 51,
   "metadata": {},
   "outputs": [
    {
     "name": "stdout",
     "output_type": "stream",
     "text": [
      "root\n",
      " |-- batters: struct (nullable = true)\n",
      " |    |-- batter: array (nullable = true)\n",
      " |    |    |-- element: struct (containsNull = true)\n",
      " |    |    |    |-- id: string (nullable = true)\n",
      " |    |    |    |-- type: string (nullable = true)\n",
      " |-- filling: array (nullable = true)\n",
      " |    |-- element: struct (containsNull = true)\n",
      " |    |    |-- id: string (nullable = true)\n",
      " |    |    |-- name: string (nullable = true)\n",
      " |-- id: string (nullable = true)\n",
      " |-- name: string (nullable = true)\n",
      " |-- ppu: double (nullable = true)\n",
      " |-- topping: array (nullable = true)\n",
      " |    |-- element: struct (containsNull = true)\n",
      " |    |    |-- id: string (nullable = true)\n",
      " |    |    |-- type: string (nullable = true)\n",
      " |-- type: string (nullable = true)\n",
      "\n",
      "+--------------------+--------------------+----+-------------------+----+--------------------+-----+\n",
      "|             batters|             filling|  id|               name| ppu|             topping| type|\n",
      "+--------------------+--------------------+----+-------------------+----+--------------------+-----+\n",
      "|{[{1001, Regular}...|                NULL|0004|              Jelly|0.65|[{5001, None}, {5...|donut|\n",
      "|{[{1001, Regular}...|                NULL|0005|     Custard-Filled|0.75|[{5001, None}, {5...|donut|\n",
      "|{[{1001, Regular}...|[{6001, None}, {6...|0006|     Cinnamon Twist|0.85|[{5001, None}, {5...|donut|\n",
      "|{[{1001, Regular}...|                NULL|0007|    Vanilla Frosted|0.75|[{5001, None}, {5...|donut|\n",
      "|{[{1001, Regular}...|                NULL|0008| Strawberry Frosted|0.85|[{5001, None}, {5...|donut|\n",
      "|{[{1001, Regular}...|                NULL|0009|     Chocolate Cake|0.75|[{5001, None}, {5...|donut|\n",
      "|{[{1001, Regular}...|                NULL|0010|     Blueberry Cake|0.55|[{5001, None}, {5...|donut|\n",
      "|{[{1001, Regular}...|                NULL|0011|  Devil's Food Cake|0.75|[{5001, None}, {5...|donut|\n",
      "|{[{1001, Regular}...|                NULL|0017|      Old Fashioned|0.65|[{5001, None}, {5...|donut|\n",
      "| {[{1001, Regular}]}|                NULL|0018|            Regular|0.55|[{5001, None}, {5...|donut|\n",
      "| {[{1001, Regular}]}|[{6001, None}, {6...|0019|          Blueberry|0.75|[{5002, Glazed}, ...|donut|\n",
      "|{[{1001, Regular}...|                NULL|0004|              Jelly|0.65|[{5001, None}, {5...|donut|\n",
      "| {[{1001, Regular}]}|                NULL|0020|       Devil's Food|0.75|[{5002, Glazed}, ...|donut|\n",
      "|{[{1001, Regular}...|                NULL|0021|      Vanilla Cream|0.75|[{5002, Glazed}, ...|donut|\n",
      "|{[{1001, Regular}...|                NULL|0012|        Jelly Donut|0.65|[{5001, None}, {5...|donut|\n",
      "| {[{1001, Regular}]}|                NULL|0013|       Raised Donut|0.55|[{5001, None}, {5...|donut|\n",
      "|{[{1001, Regular}...|                NULL|0014|Old Fashioned Donut|0.75|[{5001, None}, {5...|donut|\n",
      "| {[{1001, Regular}]}|                NULL|0015|            Cruller|0.85|[{5001, None}, {5...|donut|\n",
      "|{[{1001, Regular}...|[{6001, None}, {6...|0016|       Filled Donut|0.95|[{5001, None}, {5...|donut|\n",
      "+--------------------+--------------------+----+-------------------+----+--------------------+-----+\n",
      "\n"
     ]
    }
   ],
   "source": [
    "# 7/ Write code: Use Spark to merge the files data.json, data2.json, data3.json into a single file named result.json => Then, upload it to the \"data-result\" folder on Minio.\n",
    "# Cach 1 \n",
    "#file_path = \"s3a://data/data-raw/*\"\n",
    "bucket_name = \"data\"\n",
    "folder_path = \"data-result\"\n",
    "result_file = \"result.json\"\n",
    "file_path = [path_1, path_2, path_3]\n",
    "data = spark.read.format(\"json\").load(file_path, multiLine=True)\n",
    "data.printSchema()\n",
    "data.show()\n",
    "data.coalesce(1).write.json(f\"s3a://{bucket_name}/{folder_path}/{result_file}\", mode=\"overwrite\")\n",
    "\n"
   ]
  },
  {
   "cell_type": "code",
   "execution_count": 52,
   "metadata": {},
   "outputs": [
    {
     "data": {
      "text/plain": [
       "'\\npaths = [path_1, path_2, path_3]\\nmerged_df = None\\ndf = None\\nfor path in paths:\\n    df = spark.read.format(\"json\").load(path, multiLine=True)\\n    if merged_df is None:\\n        merged_df = df\\n    else:\\n        merged_df = merged_df.unionByName(df, allowMissingColumns=True)\\nmerged_df.show()\\noutput_path = \"result.json\"\\nmerged_df.coalesce(1).write.json(\"s3a://data/data-result/result.json\", mode=\"overwrite\")\\n'"
      ]
     },
     "execution_count": 52,
     "metadata": {},
     "output_type": "execute_result"
    }
   ],
   "source": [
    "# 7/ Write code: Use Spark to merge the files data.json, data2.json, data3.json into a single file named result.json => Then, upload it to the \"data-result\" folder on Minio.\n",
    "# Cach 2\n",
    "\"\"\"\n",
    "paths = [path_1, path_2, path_3]\n",
    "merged_df = None\n",
    "df = None\n",
    "for path in paths:\n",
    "    df = spark.read.format(\"json\").load(path, multiLine=True)\n",
    "    if merged_df is None:\n",
    "        merged_df = df\n",
    "    else:\n",
    "        merged_df = merged_df.unionByName(df, allowMissingColumns=True)\n",
    "merged_df.show()\n",
    "output_path = \"result.json\"\n",
    "merged_df.coalesce(1).write.json(\"s3a://data/data-result/result.json\", mode=\"overwrite\")\n",
    "\"\"\"\n",
    "\n"
   ]
  },
  {
   "cell_type": "code",
   "execution_count": 53,
   "metadata": {},
   "outputs": [
    {
     "name": "stdout",
     "output_type": "stream",
     "text": [
      "Len before processing: 19\n",
      "+--------------------+--------------------+----+-------------------+----+--------------------+-----+\n",
      "|             batters|             filling|  id|               name| ppu|             topping| type|\n",
      "+--------------------+--------------------+----+-------------------+----+--------------------+-----+\n",
      "|{[{1001, Regular}...|                NULL|0004|              Jelly|0.65|[{5001, None}, {5...|donut|\n",
      "|{[{1001, Regular}...|                NULL|0005|     Custard-Filled|0.75|[{5001, None}, {5...|donut|\n",
      "|{[{1001, Regular}...|[{6001, None}, {6...|0006|     Cinnamon Twist|0.85|[{5001, None}, {5...|donut|\n",
      "|{[{1001, Regular}...|                NULL|0007|    Vanilla Frosted|0.75|[{5001, None}, {5...|donut|\n",
      "|{[{1001, Regular}...|                NULL|0008| Strawberry Frosted|0.85|[{5001, None}, {5...|donut|\n",
      "|{[{1001, Regular}...|                NULL|0009|     Chocolate Cake|0.75|[{5001, None}, {5...|donut|\n",
      "|{[{1001, Regular}...|                NULL|0010|     Blueberry Cake|0.55|[{5001, None}, {5...|donut|\n",
      "|{[{1001, Regular}...|                NULL|0011|  Devil's Food Cake|0.75|[{5001, None}, {5...|donut|\n",
      "|{[{1001, Regular}...|                NULL|0017|      Old Fashioned|0.65|[{5001, None}, {5...|donut|\n",
      "| {[{1001, Regular}]}|                NULL|0018|            Regular|0.55|[{5001, None}, {5...|donut|\n",
      "| {[{1001, Regular}]}|[{6001, None}, {6...|0019|          Blueberry|0.75|[{5002, Glazed}, ...|donut|\n",
      "|{[{1001, Regular}...|                NULL|0004|              Jelly|0.65|[{5001, None}, {5...|donut|\n",
      "| {[{1001, Regular}]}|                NULL|0020|       Devil's Food|0.75|[{5002, Glazed}, ...|donut|\n",
      "|{[{1001, Regular}...|                NULL|0021|      Vanilla Cream|0.75|[{5002, Glazed}, ...|donut|\n",
      "|{[{1001, Regular}...|                NULL|0012|        Jelly Donut|0.65|[{5001, None}, {5...|donut|\n",
      "| {[{1001, Regular}]}|                NULL|0013|       Raised Donut|0.55|[{5001, None}, {5...|donut|\n",
      "|{[{1001, Regular}...|                NULL|0014|Old Fashioned Donut|0.75|[{5001, None}, {5...|donut|\n",
      "| {[{1001, Regular}]}|                NULL|0015|            Cruller|0.85|[{5001, None}, {5...|donut|\n",
      "|{[{1001, Regular}...|[{6001, None}, {6...|0016|       Filled Donut|0.95|[{5001, None}, {5...|donut|\n",
      "+--------------------+--------------------+----+-------------------+----+--------------------+-----+\n",
      "\n",
      "Remove duplicate data\n",
      "Len after processing: 18\n",
      "+--------------------+--------------------+----+-------------------+----+--------------------+-----+\n",
      "|             batters|             filling|  id|               name| ppu|             topping| type|\n",
      "+--------------------+--------------------+----+-------------------+----+--------------------+-----+\n",
      "| {[{1001, Regular}]}|                NULL|0018|            Regular|0.55|[{5001, None}, {5...|donut|\n",
      "|{[{1001, Regular}...|                NULL|0021|      Vanilla Cream|0.75|[{5002, Glazed}, ...|donut|\n",
      "|{[{1001, Regular}...|[{6001, None}, {6...|0016|       Filled Donut|0.95|[{5001, None}, {5...|donut|\n",
      "| {[{1001, Regular}]}|[{6001, None}, {6...|0019|          Blueberry|0.75|[{5002, Glazed}, ...|donut|\n",
      "|{[{1001, Regular}...|                NULL|0004|              Jelly|0.65|[{5001, None}, {5...|donut|\n",
      "|{[{1001, Regular}...|                NULL|0011|  Devil's Food Cake|0.75|[{5001, None}, {5...|donut|\n",
      "| {[{1001, Regular}]}|                NULL|0013|       Raised Donut|0.55|[{5001, None}, {5...|donut|\n",
      "|{[{1001, Regular}...|                NULL|0017|      Old Fashioned|0.65|[{5001, None}, {5...|donut|\n",
      "|{[{1001, Regular}...|                NULL|0010|     Blueberry Cake|0.55|[{5001, None}, {5...|donut|\n",
      "|{[{1001, Regular}...|                NULL|0014|Old Fashioned Donut|0.75|[{5001, None}, {5...|donut|\n",
      "|{[{1001, Regular}...|                NULL|0012|        Jelly Donut|0.65|[{5001, None}, {5...|donut|\n",
      "|{[{1001, Regular}...|                NULL|0007|    Vanilla Frosted|0.75|[{5001, None}, {5...|donut|\n",
      "|{[{1001, Regular}...|[{6001, None}, {6...|0006|     Cinnamon Twist|0.85|[{5001, None}, {5...|donut|\n",
      "|{[{1001, Regular}...|                NULL|0009|     Chocolate Cake|0.75|[{5001, None}, {5...|donut|\n",
      "| {[{1001, Regular}]}|                NULL|0015|            Cruller|0.85|[{5001, None}, {5...|donut|\n",
      "|{[{1001, Regular}...|                NULL|0005|     Custard-Filled|0.75|[{5001, None}, {5...|donut|\n",
      "| {[{1001, Regular}]}|                NULL|0020|       Devil's Food|0.75|[{5002, Glazed}, ...|donut|\n",
      "|{[{1001, Regular}...|                NULL|0008| Strawberry Frosted|0.85|[{5001, None}, {5...|donut|\n",
      "+--------------------+--------------------+----+-------------------+----+--------------------+-----+\n",
      "\n"
     ]
    }
   ],
   "source": [
    "# 8/ Write code: Then, use Spark to read the result.json file => Display the data => You might have some duplicate data, please remove them => Display the data again after processing (Please retain the key steps you used to derive the final result).\n",
    "\n",
    "# Step 1: Read the result.json file\n",
    "result_df = spark.read.json(f\"s3a://{bucket_name}/{folder_path}/{result_file}/*.json\")\n",
    "# Step 2: Display the data before removing duplicates\n",
    "print(f\"Len before processing: {result_df.count()}\")\n",
    "result_df.show()\n",
    "# Step 3: Remove duplicate data\n",
    "print(\"Remove duplicate data\")\n",
    "df_remove_duplicate = result_df.dropDuplicates()\n",
    "# Step 4: Display the data after removing duplicates\n",
    "print(f\"Len after processing: {df_remove_duplicate.count()}\")\n",
    "df_remove_duplicate.show()\n"
   ]
  },
  {
   "cell_type": "code",
   "execution_count": 54,
   "metadata": {},
   "outputs": [
    {
     "name": "stdout",
     "output_type": "stream",
     "text": [
      "StructType([StructField('batters', StructType([StructField('batter', ArrayType(StructType([StructField('id', StringType(), True), StructField('type', StringType(), True)]), True), True)]), True), StructField('filling', ArrayType(StructType([StructField('id', StringType(), True), StructField('name', StringType(), True)]), True), True), StructField('id', StringType(), True), StructField('name', StringType(), True), StructField('ppu', DoubleType(), True), StructField('topping', ArrayType(StructType([StructField('id', StringType(), True), StructField('type', StringType(), True)]), True), True), StructField('type', StringType(), True)])\n"
     ]
    }
   ],
   "source": [
    "print(df_remove_duplicate.schema)"
   ]
  },
  {
   "cell_type": "code",
   "execution_count": 55,
   "metadata": {},
   "outputs": [
    {
     "name": "stdout",
     "output_type": "stream",
     "text": [
      "+--------------------+--------------------+----+-------------------+----+--------------------+-----+\n",
      "|                 _c0|                 _c1| _c2|                _c3| _c4|                 _c5|  _c6|\n",
      "+--------------------+--------------------+----+-------------------+----+--------------------+-----+\n",
      "|             batters|             filling|  id|               name| ppu|             topping| type|\n",
      "|{\"batter\":[{\"id\":...|                NULL|0018|            Regular|0.55|[{\"id\":\"5001\",\"ty...|donut|\n",
      "|{\"batter\":[{\"id\":...|                NULL|0021|      Vanilla Cream|0.75|[{\"id\":\"5002\",\"ty...|donut|\n",
      "|{\"batter\":[{\"id\":...|[{\"id\":\"6001\",\"na...|0016|       Filled Donut|0.95|[{\"id\":\"5001\",\"ty...|donut|\n",
      "|{\"batter\":[{\"id\":...|[{\"id\":\"6001\",\"na...|0019|          Blueberry|0.75|[{\"id\":\"5002\",\"ty...|donut|\n",
      "|{\"batter\":[{\"id\":...|                NULL|0004|              Jelly|0.65|[{\"id\":\"5001\",\"ty...|donut|\n",
      "|{\"batter\":[{\"id\":...|                NULL|0011|  Devil's Food Cake|0.75|[{\"id\":\"5001\",\"ty...|donut|\n",
      "|{\"batter\":[{\"id\":...|                NULL|0013|       Raised Donut|0.55|[{\"id\":\"5001\",\"ty...|donut|\n",
      "|{\"batter\":[{\"id\":...|                NULL|0017|      Old Fashioned|0.65|[{\"id\":\"5001\",\"ty...|donut|\n",
      "|{\"batter\":[{\"id\":...|                NULL|0010|     Blueberry Cake|0.55|[{\"id\":\"5001\",\"ty...|donut|\n",
      "|{\"batter\":[{\"id\":...|                NULL|0014|Old Fashioned Donut|0.75|[{\"id\":\"5001\",\"ty...|donut|\n",
      "|{\"batter\":[{\"id\":...|                NULL|0012|        Jelly Donut|0.65|[{\"id\":\"5001\",\"ty...|donut|\n",
      "|{\"batter\":[{\"id\":...|                NULL|0007|    Vanilla Frosted|0.75|[{\"id\":\"5001\",\"ty...|donut|\n",
      "|{\"batter\":[{\"id\":...|[{\"id\":\"6001\",\"na...|0006|     Cinnamon Twist|0.85|[{\"id\":\"5001\",\"ty...|donut|\n",
      "|{\"batter\":[{\"id\":...|                NULL|0009|     Chocolate Cake|0.75|[{\"id\":\"5001\",\"ty...|donut|\n",
      "|{\"batter\":[{\"id\":...|                NULL|0015|            Cruller|0.85|[{\"id\":\"5001\",\"ty...|donut|\n",
      "|{\"batter\":[{\"id\":...|                NULL|0005|     Custard-Filled|0.75|[{\"id\":\"5001\",\"ty...|donut|\n",
      "|{\"batter\":[{\"id\":...|                NULL|0020|       Devil's Food|0.75|[{\"id\":\"5002\",\"ty...|donut|\n",
      "|{\"batter\":[{\"id\":...|                NULL|0008| Strawberry Frosted|0.85|[{\"id\":\"5001\",\"ty...|donut|\n",
      "+--------------------+--------------------+----+-------------------+----+--------------------+-----+\n",
      "\n"
     ]
    }
   ],
   "source": [
    "# 9/ Check your results. Before eliminating duplicates it will be 19 and after duplicates will it be equal to 18? The final result is the csv file uploaded to minio or not and can the csv file be read or not.\n",
    "path_csv = f\"s3a://{bucket_name}/{folder_path}/{result_file}/output.csv\"\n",
    "from pyspark.sql.functions import col, to_json\n",
    "df_flat = df_remove_duplicate.withColumn(\"batters\", to_json(col(\"batters\"))) \\\n",
    "    .withColumn(\"filling\", to_json(col(\"filling\"))) \\\n",
    "    .withColumn(\"topping\", to_json(col(\"topping\")))\n",
    "df_flat.write.csv(path_csv, header=True, mode=\"overwrite\")\n",
    "df_read_back = spark.read.csv(path_csv)\n",
    "df_read_back.show()\n"
   ]
  }
 ],
 "metadata": {
  "kernelspec": {
   "display_name": ".venv",
   "language": "python",
   "name": "python3"
  },
  "language_info": {
   "codemirror_mode": {
    "name": "ipython",
    "version": 3
   },
   "file_extension": ".py",
   "mimetype": "text/x-python",
   "name": "python",
   "nbconvert_exporter": "python",
   "pygments_lexer": "ipython3",
   "version": "3.9.4"
  }
 },
 "nbformat": 4,
 "nbformat_minor": 2
}
